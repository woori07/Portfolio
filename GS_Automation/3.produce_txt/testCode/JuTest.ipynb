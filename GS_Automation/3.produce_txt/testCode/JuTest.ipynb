{
 "cells": [
  {
   "cell_type": "markdown",
   "metadata": {},
   "source": [
    "# 프로젝트 로직\n",
    "\n",
    "1. 엑셀 파일을 불러온다.\n",
    "2. 엑셀 파일의 특정 행을 불러와서 데이터 프레임에 넣는다.\n",
    "3. "
   ]
  },
  {
   "cell_type": "code",
   "execution_count": 38,
   "metadata": {},
   "outputs": [
    {
     "name": "stderr",
     "output_type": "stream",
     "text": [
      "/var/folders/wb/krmw4xyj5cn0cc7wc6v9bpm40000gn/T/ipykernel_6411/2216274947.py:31: DeprecationWarning: Call to deprecated function get_sheet_names (Use wb.sheetnames).\n",
      "  ws = wb.get_sheet_by_name(wb.get_sheet_names()[0])\n",
      "/var/folders/wb/krmw4xyj5cn0cc7wc6v9bpm40000gn/T/ipykernel_6411/2216274947.py:31: DeprecationWarning: Call to deprecated function get_sheet_by_name (Use wb[sheetname]).\n",
      "  ws = wb.get_sheet_by_name(wb.get_sheet_names()[0])\n"
     ]
    }
   ],
   "source": [
    "from openpyxl import load_workbook\n",
    "import pandas as pd\n",
    "import re\n",
    "\n",
    "class Transform():\n",
    "    \n",
    "    \"\"\"\n",
    "        출력 양식\n",
    "        \n",
    "        0. 분야 및 번호: 소프트웨어분야\n",
    "\n",
    "        1. 인증로고 명칭: goodsoftware\n",
    "\n",
    "        2. 인증번호: {00-0000}\n",
    "\n",
    "        3. 모델명(제품설명) : {모델명} ({제품설명})\n",
    "\n",
    "        4. 회사명(제조사)  /  홈페이지 주소 :  {회사명}/ {홈페이지 주소}\n",
    "\n",
    "        5. 업체 담당자 연락처: {성함 및 직급}, {전화번호}, {이메일 주소}\n",
    "\n",
    "        6. 제품 컬러 사진 (해상도 높은 것으로 주세요)\n",
    "    \"\"\"\n",
    "    \n",
    "    \n",
    "    \n",
    "    def __init__(self):\n",
    "        # 경로 유동적으로 지정\n",
    "        wb = load_workbook('/Users/geon-woo/Desktop/HWP_extract/test.xlsx', data_only=True)\n",
    "        df = pd.DataFrame(wb.active.values)\n",
    "        ws = wb.get_sheet_by_name(wb.get_sheet_names()[0])\n",
    "        f = open('/Users/geon-woo/Desktop/HWP_extract/MDlist.txt', 'w')\n",
    "        \n",
    "        for i in range(2, len(df)+1):\n",
    "            try:\n",
    "                # 각 행의 필요한 셀 값을 저장\n",
    "                gsNum = ws.cell(column=2, row=i).value\n",
    "                modelName = ws.cell(column=4, row=i).value\n",
    "                modelInfo = ws.cell(column=7, row=i).value\n",
    "                compName = ws.cell(column=8, row=i).value\n",
    "                compURL = ws.cell(column=9, row=i).value\n",
    "                managerInfo = ws.cell(column=11, row=i).value\n",
    "                managerPhone = ws.cell(column=12, row=i).value\n",
    "                managerEmail = ws.cell(column=13, row=i).value\n",
    "                # 회사 영문명 및 특수문자 제거\n",
    "                compName = (re.sub(r\"[^\\uAC00-\\uD7A30㈜]\", \" \", compName)).rstrip()\n",
    "                \n",
    "                multi_line_string = f\"\"\"\n",
    "                새로운 인증 제품\\n\\n\\n\\n\n",
    "0. 분야 및 번호: 소프트웨어분야\\n\n",
    "1. 인증로고 명칭: goodsoftware\\n\n",
    "2. 인증번호: {gsNum}\\n\n",
    "3. 모델명(제품설명) : {modelName} ({modelInfo})\\n\n",
    "4. 회사명(제조사)  /  홈페이지 주소 : {compName} / {compURL}\\n\n",
    "5. 업체 담당자 연락처: {managerInfo}, {managerPhone}, {managerEmail}\\n\n",
    "6. 제품 컬러 사진 (해상도 높은 것으로 주세요)\\n\\n\\n\\n\\n\\n\\n\\n\\n\\n\n",
    "                \"\"\"\n",
    "                print(multi_line_string, file=f)\n",
    "            except:\n",
    "                print(f\"{i}번째 시도에서 에러 발생\")\n",
    "                pass            \n",
    "        f.close()\n",
    "        \n",
    "    \n",
    "if __name__ == \"__main__\":\n",
    "    start = Transform()"
   ]
  }
 ],
 "metadata": {
  "kernelspec": {
   "display_name": "Python 3",
   "language": "python",
   "name": "python3"
  },
  "language_info": {
   "codemirror_mode": {
    "name": "ipython",
    "version": 3
   },
   "file_extension": ".py",
   "mimetype": "text/x-python",
   "name": "python",
   "nbconvert_exporter": "python",
   "pygments_lexer": "ipython3",
   "version": "3.11.4"
  },
  "orig_nbformat": 4
 },
 "nbformat": 4,
 "nbformat_minor": 2
}
